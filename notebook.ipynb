{
 "cells": [
  {
   "cell_type": "code",
   "execution_count": 5,
   "metadata": {},
   "outputs": [
    {
     "name": "stdout",
     "output_type": "stream",
     "text": [
      "Drive Results 2023  | Count | Pctg\n",
      "--------------------------------------------\n",
      "Punt                | 12312 | 36.47%\n",
      "Touchdown           |  8937 | 26.48%\n",
      "Field Goal          |  2899 |  8.59%\n",
      "Missed Field Goal   |  1089 |  3.23%\n",
      "Turnover on Downs   |  2365 |  7.01%\n",
      "Interceptions       |  2052 |  6.08%\n",
      "Fumble              |  1250 |  3.70%\n",
      "End of Half         |   965 |  2.86%\n",
      "End of Game         |   897 |  2.66%\n"
     ]
    }
   ],
   "source": [
    "import json\n",
    "\n",
    "# Load the JSON data from the file\n",
    "with open('cfb-drive-stats-2023.json', 'r') as file:\n",
    "    data = json.load(file)\n",
    "\n",
    "# Display the data to verify it's loaded correctly\n",
    "drive_results = []\n",
    "for drive in data:\n",
    "    drive_results.append(drive['drive_result'])\n",
    "\n",
    "print('Drive Results 2023  | Count | Pctg')\n",
    "print('--------------------------------------------')\n",
    "print(f'Punt                | {drive_results.count('PUNT')} | {drive_results.count('PUNT') / len(drive_results) * 100:.2f}%')\n",
    "print(f'Touchdown           |  {drive_results.count('TD')} | {drive_results.count('TD') / len(drive_results) * 100:.2f}%')\n",
    "print(f'Field Goal          |  {drive_results.count('FG')} |  {drive_results.count('FG') / len(drive_results) * 100:.2f}%')\n",
    "print(f'Missed Field Goal   |  {drive_results.count('MISSED FG')} |  {drive_results.count('MISSED FG') / len(drive_results) * 100:.2f}%')\n",
    "print(f'Turnover on Downs   |  {drive_results.count('DOWNS')} |  {drive_results.count('DOWNS') / len(drive_results) * 100:.2f}%')\n",
    "print(f'Interceptions       |  {drive_results.count('INT')} |  {drive_results.count('INT') / len(drive_results) * 100:.2f}%')\n",
    "print(f'Fumble              |  {drive_results.count('FUMBLE')} |  {drive_results.count('FUMBLE') / len(drive_results) * 100:.2f}%')\n",
    "print(f'End of Half         |   {drive_results.count('END OF HALF')} |  {drive_results.count('END OF HALF') / len(drive_results) * 100:.2f}%')\n",
    "print(f'End of Game         |   {drive_results.count('END OF GAME')} |  {drive_results.count('END OF GAME') / len(drive_results) * 100:.2f}%')"
   ]
  },
  {
   "cell_type": "code",
   "execution_count": 13,
   "metadata": {},
   "outputs": [
    {
     "name": "stdout",
     "output_type": "stream",
     "text": [
      "Drive Results 2018  | Count | Pctg\n",
      "--------------------------------------------\n",
      "Punt                | 8162 | 37.55%\n",
      "Touchdown           | 5851 | 26.92%\n",
      "Field Goal          | 1748 |  8.04%\n",
      "Missed Field Goal   |  657 |  3.02%\n",
      "Turnover on Downs   | 1215 |  5.59%\n",
      "Interceptions       | 1264 |  5.82%\n",
      "Fumble              |  974 |  4.48%\n",
      "End of Half         |  622 |  2.86%\n",
      "End of Game         |  525 |  2.42%\n"
     ]
    }
   ],
   "source": [
    "import json\n",
    "\n",
    "# Load the JSON data from the file\n",
    "with open('cfb-drive-stats-2018.json', 'r') as file:\n",
    "    data = json.load(file)\n",
    "\n",
    "# Display the data to verify it's loaded correctly\n",
    "drive_results = []\n",
    "for drive in data:\n",
    "    drive_results.append(drive['drive_result'])\n",
    "\n",
    "print('Drive Results 2018  | Count | Pctg')\n",
    "print('--------------------------------------------')\n",
    "print(f'Punt                | {drive_results.count('PUNT')} | {drive_results.count('PUNT') / len(drive_results) * 100:.2f}%')\n",
    "print(f'Touchdown           | {drive_results.count('TD')} | {drive_results.count('TD') / len(drive_results) * 100:.2f}%')\n",
    "print(f'Field Goal          | {drive_results.count('FG')} |  {drive_results.count('FG') / len(drive_results) * 100:.2f}%')\n",
    "print(f'Missed Field Goal   |  {drive_results.count('MISSED FG')} |  {drive_results.count('MISSED FG') / len(drive_results) * 100:.2f}%')\n",
    "print(f'Turnover on Downs   | {drive_results.count('DOWNS')} |  {drive_results.count('DOWNS') / len(drive_results) * 100:.2f}%')\n",
    "print(f'Interceptions       | {drive_results.count('INT')} |  {drive_results.count('INT') / len(drive_results) * 100:.2f}%')\n",
    "print(f'Fumble              |  {drive_results.count('FUMBLE')} |  {drive_results.count('FUMBLE') / len(drive_results) * 100:.2f}%')\n",
    "print(f'End of Half         |  {drive_results.count('END OF HALF')} |  {drive_results.count('END OF HALF') / len(drive_results) * 100:.2f}%')\n",
    "print(f'End of Game         |  {drive_results.count('END OF GAME')} |  {drive_results.count('END OF GAME') / len(drive_results) * 100:.2f}%')"
   ]
  },
  {
   "cell_type": "code",
   "execution_count": 16,
   "metadata": {},
   "outputs": [
    {
     "name": "stdout",
     "output_type": "stream",
     "text": [
      "Drive Results 2013  | Count | Pctg\n",
      "--------------------------------------------\n",
      "Punt                | 8165 | 38.09%\n",
      "Touchdown           | 5696 | 26.57%\n",
      "Field Goal          | 1746 |  8.15%\n",
      "Missed Field Goal   |  594 |  2.77%\n",
      "Turnover on Downs   | 1160 |  5.41%\n",
      "Interceptions       | 1255 |  5.85%\n",
      "Fumble              | 1016 |  4.74%\n",
      "End of Half         |  642 |  2.99%\n",
      "End of Game         |  700 |  3.27%\n"
     ]
    }
   ],
   "source": [
    "import json\n",
    "\n",
    "# Load the JSON data from the file\n",
    "with open('cfb-drive-stats-2016.json', 'r') as file:\n",
    "    data = json.load(file)\n",
    "\n",
    "# Display the data to verify it's loaded correctly\n",
    "drive_results = []\n",
    "for drive in data:\n",
    "    drive_results.append(drive['drive_result'])\n",
    "\n",
    "print('Drive Results 2013  | Count | Pctg')\n",
    "print('--------------------------------------------')\n",
    "print(f'Punt                | {drive_results.count('PUNT')} | {drive_results.count('PUNT') / len(drive_results) * 100:.2f}%')\n",
    "print(f'Touchdown           | {drive_results.count('TD')} | {drive_results.count('TD') / len(drive_results) * 100:.2f}%')\n",
    "print(f'Field Goal          | {drive_results.count('FG')} |  {drive_results.count('FG') / len(drive_results) * 100:.2f}%')\n",
    "print(f'Missed Field Goal   |  {drive_results.count('MISSED FG')} |  {drive_results.count('MISSED FG') / len(drive_results) * 100:.2f}%')\n",
    "print(f'Turnover on Downs   | {drive_results.count('DOWNS')} |  {drive_results.count('DOWNS') / len(drive_results) * 100:.2f}%')\n",
    "print(f'Interceptions       | {drive_results.count('INT')} |  {drive_results.count('INT') / len(drive_results) * 100:.2f}%')\n",
    "print(f'Fumble              | {drive_results.count('FUMBLE')} |  {drive_results.count('FUMBLE') / len(drive_results) * 100:.2f}%')\n",
    "print(f'End of Half         |  {drive_results.count('END OF HALF')} |  {drive_results.count('END OF HALF') / len(drive_results) * 100:.2f}%')\n",
    "print(f'End of Game         |  {drive_results.count('END OF GAME')} |  {drive_results.count('END OF GAME') / len(drive_results) * 100:.2f}%')"
   ]
  },
  {
   "cell_type": "code",
   "execution_count": 18,
   "metadata": {},
   "outputs": [
    {
     "name": "stdout",
     "output_type": "stream",
     "text": [
      "4th Down Plays 2016 Week 1: 1711\n",
      "4th Down Plays After 10 Yard Line: 114\n",
      "4th Down Plays After 20 Yard Line: 233\n",
      "4th Down Plays After 30 Yard Line: 364\n",
      "4th Down Plays After 40 Yard Line: 538\n",
      "4th Down Plays After 50 Yard Line: 703\n",
      "4th Down Plays Before 50 Yard Line: 1008\n"
     ]
    }
   ],
   "source": [
    "import json\n",
    "\n",
    "# Load the JSON data from the file\n",
    "with open('cfb-play-by-play-2016-wk1.json', 'r') as file:\n",
    "    data = json.load(file)\n",
    "\n",
    "# Display the data to verify it's loaded correctly\n",
    "fourth_downs = []\n",
    "for play in data:\n",
    "    if play['down'] == 4:\n",
    "        fourth_downs.append(play)\n",
    "\n",
    "print(f'4th Down Plays 2016 Week 1: {len(fourth_downs)}')\n",
    "print(f'4th Down Plays After 10 Yard Line: {\n",
    "    len([play for play in fourth_downs if play[\"yards_to_goal\"] <= 10])}')\n",
    "print(f'4th Down Plays After 20 Yard Line: {\n",
    "    len([play for play in fourth_downs if play[\"yards_to_goal\"] <= 20])}')\n",
    "print(f'4th Down Plays After 30 Yard Line: {\n",
    "    len([play for play in fourth_downs if play[\"yards_to_goal\"] <= 30])}')\n",
    "print(f'4th Down Plays After 40 Yard Line: {\n",
    "    len([play for play in fourth_downs if play[\"yards_to_goal\"] <= 40])}')\n",
    "print(f'4th Down Plays After 50 Yard Line: {\n",
    "    len([play for play in fourth_downs if play[\"yards_to_goal\"] <= 50])}')\n",
    "print(f'4th Down Plays Before 50 Yard Line: {\n",
    "    len([play for play in fourth_downs if play[\"yards_to_goal\"] > 50])}')\n"
   ]
  },
  {
   "cell_type": "code",
   "execution_count": 26,
   "metadata": {},
   "outputs": [
    {
     "name": "stdout",
     "output_type": "stream",
     "text": [
      "4th Down Plays 2016 Week 1: 1711\n",
      "4th Down Plays with 1 Yard to-go: 181\n",
      "4th Down Plays with 2 Yards to-go: 107\n",
      "4th Down Plays with 3 Yards to-go: 123\n",
      "4th Down Plays with 4 Yards to-go: 104\n",
      "4th Down Plays with 5 Yards to-go: 131\n",
      "4th Down Plays with 6 Yards to-go: 151\n",
      "4th Down Plays with 7 Yards to-go: 123\n",
      "4th Down Plays with 8 Yards to-go: 124\n",
      "4th Down Plays with 9 Yards to-go: 90\n",
      "4th Down Plays with 10 or more Yards to-go: 559\n"
     ]
    }
   ],
   "source": [
    "import json\n",
    "\n",
    "# Load the JSON data from the file\n",
    "with open('cfb-play-by-play-2016-wk1.json', 'r') as file:\n",
    "    data = json.load(file)\n",
    "\n",
    "# Display the data to verify it's loaded correctly\n",
    "fourth_downs = []\n",
    "for play in data:\n",
    "    if play['down'] == 4:\n",
    "        fourth_downs.append(play)\n",
    "\n",
    "print(f'4th Down Plays 2016 Week 1: {len(fourth_downs)}')\n",
    "print(f'4th Down Plays with 1 Yard to-go: {\n",
    "    len([play for play in fourth_downs if play[\"distance\"] == 1])}')\n",
    "print(f'4th Down Plays with 2 Yards to-go: {\n",
    "    len([play for play in fourth_downs if play[\"distance\"] == 2])}')\n",
    "print(f'4th Down Plays with 3 Yards to-go: {\n",
    "    len([play for play in fourth_downs if play[\"distance\"] == 3])}')\n",
    "print(f'4th Down Plays with 4 Yards to-go: {\n",
    "    len([play for play in fourth_downs if play[\"distance\"] == 4])}')\n",
    "print(f'4th Down Plays with 5 Yards to-go: {\n",
    "    len([play for play in fourth_downs if play[\"distance\"] == 5])}')\n",
    "print(f'4th Down Plays with 6 Yards to-go: {\n",
    "    len([play for play in fourth_downs if play[\"distance\"] == 6])}')\n",
    "print(f'4th Down Plays with 7 Yards to-go: {\n",
    "    len([play for play in fourth_downs if play[\"distance\"] == 7])}')\n",
    "print(f'4th Down Plays with 8 Yards to-go: {\n",
    "    len([play for play in fourth_downs if play[\"distance\"] == 8])}')\n",
    "print(f'4th Down Plays with 9 Yards to-go: {\n",
    "    len([play for play in fourth_downs if play[\"distance\"] == 9])}')\n",
    "print(f'4th Down Plays with 10 or more Yards to-go: {\n",
    "    len([play for play in fourth_downs if play[\"distance\"] >= 10])}')"
   ]
  },
  {
   "cell_type": "markdown",
   "metadata": {},
   "source": []
  },
  {
   "cell_type": "code",
   "execution_count": 57,
   "metadata": {},
   "outputs": [
    {
     "name": "stdout",
     "output_type": "stream",
     "text": [
      "4th Down Plays by Distance and Yards from Endzone Averaged between Q1-Q3\n",
      "\n",
      "     |  10 |  20 |  30 |  40 | >=50\n",
      "--------------------------------------\n",
      "   1 |   8 |  19 |  30 |  48 | 122 \n",
      "   2 |   2 |  10 |  24 |  38 | 115 \n",
      "   3 |   2 |  13 |  24 |  39 | 121 \n",
      "   4 |   4 |  13 |  25 |  40 | 116 \n",
      "   5 |   5 |  16 |  29 |  43 | 119 \n",
      "   6 |   4 |  14 |  26 |  44 | 121 \n",
      "   7 |   3 |  13 |  26 |  43 | 118 \n",
      "   8 |   2 |  13 |  25 |  40 | 119 \n",
      "   9 |   2 |  12 |  22 |  36 | 115 \n",
      "  10 |   1 |   9 |  18 |  31 | 100 \n"
     ]
    }
   ],
   "source": [
    "import json\n",
    "\n",
    "# Load the JSON data from the file\n",
    "with open('cfb-play-by-play-2016-wk1.json', 'r') as file:\n",
    "    data = json.load(file)\n",
    "\n",
    "# Display a table\n",
    "print('4th Down Plays by Distance and Yards from Endzone Averaged between Q1-Q3\\n')\n",
    "print('     |  10 |  20 |  30 |  40 | >=50')\n",
    "print('--------------------------------------')\n",
    "for distance in range(1, 11):\n",
    "    print(f'{distance:>4}', end=' ')\n",
    "    for yard_line in [10, 20, 30, 40, 50]:\n",
    "        plays = [play for play in data if play['down'] == 4 and\n",
    "                 (play['distance'] == distance if play['distance'] < 10\n",
    "                  else play['distance'] >= 10) and\n",
    "                 (play['yards_to_goal'] <= yard_line if yard_line < 50\n",
    "                  else play['yards_to_goal'] >= 50) and\n",
    "                  play['period'] != 4]\n",
    "        print(f'| {len(plays) // 3:>3}', end=' ')\n",
    "    print()"
   ]
  },
  {
   "cell_type": "code",
   "execution_count": 58,
   "metadata": {},
   "outputs": [
    {
     "name": "stdout",
     "output_type": "stream",
     "text": [
      "4th Down Plays by Distance and Yards from Endzone for Q4\n",
      "\n",
      "     |  10 |  20 |  30 |  40 | >=50\n",
      "--------------------------------------\n",
      "   1 |   6 |  19 |  37 |  61 | 108 \n",
      "   2 |   2 |   8 |  28 |  47 |  95 \n",
      "   3 |   5 |  13 |  27 |  44 | 103 \n",
      "   4 |   1 |  10 |  25 |  43 | 100 \n",
      "   5 |   5 |  14 |  32 |  48 |  99 \n",
      "   6 |   4 |  16 |  34 |  52 | 104 \n",
      "   7 |   0 |   6 |  24 |  43 |  97 \n",
      "   8 |   1 |   9 |  23 |  48 | 101 \n",
      "   9 |   1 |   8 |  22 |  45 |  96 \n",
      "  10 |   0 |   6 |  20 |  36 |  84 \n"
     ]
    }
   ],
   "source": [
    "import json\n",
    "\n",
    "# Load the JSON data from the file\n",
    "with open('cfb-play-by-play-2016-wk1.json', 'r') as file:\n",
    "    data = json.load(file)\n",
    "\n",
    "# Display a table\n",
    "print('4th Down Plays by Distance and Yards from Endzone for Q4\\n')\n",
    "print('     |  10 |  20 |  30 |  40 | >=50')\n",
    "print('--------------------------------------')\n",
    "for distance in range(1, 11):\n",
    "    print(f'{distance:>4}', end=' ')\n",
    "    for yard_line in [10, 20, 30, 40, 50]:\n",
    "        plays = [play for play in data if play['down'] == 4 and\n",
    "                 (play['distance'] == distance if play['distance'] < 10\n",
    "                  else play['distance'] >= 10) and\n",
    "                 (play['yards_to_goal'] <= yard_line if yard_line < 50\n",
    "                  else play['yards_to_goal'] >= 50) and\n",
    "                  play['period'] == 4]\n",
    "        print(f'| {len(plays):>3}', end=' ')\n",
    "    print()"
   ]
  },
  {
   "cell_type": "code",
   "execution_count": 64,
   "metadata": {},
   "outputs": [
    {
     "name": "stdout",
     "output_type": "stream",
     "text": [
      "4th Down Plays by Distance and Yards from Endzone Averaged between Q1-Q3\n",
      "\n",
      "     |  10 |  20 |  30 |  40 | >=50\n",
      "--------------------------------------\n",
      "   1 |   4 |  13 |  28 |  47 | 117 \n",
      "   2 |   2 |  12 |  23 |  37 | 104 \n",
      "   3 |   3 |  12 |  26 |  39 | 109 \n",
      "   4 |   2 |  12 |  23 |  36 | 108 \n",
      "   5 |   6 |  15 |  28 |  41 | 111 \n",
      "   6 |   4 |  14 |  26 |  41 | 111 \n",
      "   7 |   3 |  12 |  25 |  38 | 107 \n",
      "   8 |   1 |   9 |  19 |  31 | 108 \n",
      "   9 |   1 |   9 |  22 |  35 | 108 \n",
      "  10 |   0 |   7 |  17 |  27 |  91 \n"
     ]
    }
   ],
   "source": [
    "import json\n",
    "\n",
    "# Load the JSON data from the file\n",
    "with open('cfb-play-by-play-2018-wk1.json', 'r') as file:\n",
    "    data = json.load(file)\n",
    "\n",
    "# Display a table\n",
    "print('4th Down Plays by Distance and Yards from Endzone Averaged between Q1-Q3\\n')\n",
    "print('     |  10 |  20 |  30 |  40 | >=50')\n",
    "print('--------------------------------------')\n",
    "for distance in range(1, 11):\n",
    "    print(f'{distance:>4}', end=' ')\n",
    "    for yard_line in [10, 20, 30, 40, 50]:\n",
    "        plays = [play for play in data if play['down'] == 4 and\n",
    "                 (play['distance'] == distance if play['distance'] < 10\n",
    "                  else play['distance'] >= 10) and\n",
    "                 (play['yards_to_goal'] <= yard_line if yard_line < 50\n",
    "                  else play['yards_to_goal'] >= 50) and\n",
    "                  play['period'] != 4]\n",
    "        print(f'| {len(plays) // 3:>3}', end=' ')\n",
    "    print()"
   ]
  },
  {
   "cell_type": "code",
   "execution_count": 60,
   "metadata": {},
   "outputs": [
    {
     "name": "stdout",
     "output_type": "stream",
     "text": [
      "4th Down Plays by Distance and Yards from Endzone for Q4\n",
      "\n",
      "     |  10 |  20 |  30 |  40 | >=50\n",
      "--------------------------------------\n",
      "   1 |   7 |  17 |  26 |  53 |  88 \n",
      "   2 |   7 |  22 |  37 |  62 |  86 \n",
      "   3 |   4 |  14 |  26 |  48 |  84 \n",
      "   4 |   4 |  22 |  31 |  54 |  83 \n",
      "   5 |   5 |  16 |  29 |  49 |  86 \n",
      "   6 |   4 |  15 |  26 |  50 |  81 \n",
      "   7 |   3 |  17 |  26 |  52 |  78 \n",
      "   8 |   2 |  11 |  22 |  42 |  80 \n",
      "   9 |   4 |  13 |  26 |  49 |  75 \n",
      "  10 |   1 |  10 |  19 |  38 |  66 \n"
     ]
    }
   ],
   "source": [
    "import json\n",
    "\n",
    "# Load the JSON data from the file\n",
    "with open('cfb-play-by-play-2018-wk1.json', 'r') as file:\n",
    "    data = json.load(file)\n",
    "\n",
    "# Display a table\n",
    "print('4th Down Plays by Distance and Yards from Endzone for Q4\\n')\n",
    "print('     |  10 |  20 |  30 |  40 | >=50')\n",
    "print('--------------------------------------')\n",
    "for distance in range(1, 11):\n",
    "    print(f'{distance:>4}', end=' ')\n",
    "    for yard_line in [10, 20, 30, 40, 50]:\n",
    "        plays = [play for play in data if play['down'] == 4 and\n",
    "                 (play['distance'] == distance if play['distance'] < 10\n",
    "                  else play['distance'] >= 10) and\n",
    "                 (play['yards_to_goal'] <= yard_line if yard_line < 50\n",
    "                  else play['yards_to_goal'] >= 50) and\n",
    "                  play['period'] == 4]\n",
    "        print(f'| {len(plays):>3}', end=' ')\n",
    "    print()"
   ]
  },
  {
   "cell_type": "code",
   "execution_count": 65,
   "metadata": {},
   "outputs": [
    {
     "name": "stdout",
     "output_type": "stream",
     "text": [
      "4th Down Plays by Distance and Yards from Endzone Averaged between Q1-Q3\n",
      "\n",
      "     |  10 |  20 |  30 |  40 | >=50\n",
      "--------------------------------------\n",
      "   1 |   8 |  30 |  55 |  76 | 137 \n",
      "   2 |   4 |  23 |  45 |  66 | 134 \n",
      "   3 |   6 |  26 |  44 |  63 | 131 \n",
      "   4 |   4 |  23 |  42 |  61 | 134 \n",
      "   5 |   4 |  24 |  43 |  60 | 136 \n",
      "   6 |   5 |  24 |  44 |  63 | 138 \n",
      "   7 |   3 |  21 |  41 |  60 | 128 \n",
      "   8 |   2 |  20 |  37 |  55 | 131 \n",
      "   9 |   2 |  20 |  37 |  53 | 130 \n",
      "  10 |   1 |  17 |  33 |  48 | 111 \n"
     ]
    }
   ],
   "source": [
    "import json\n",
    "\n",
    "# Load the JSON data from the file\n",
    "with open('cfb-play-by-play-2023-wk1.json', 'r') as file:\n",
    "    data = json.load(file)\n",
    "\n",
    "# Display a table\n",
    "print('4th Down Plays by Distance and Yards from Endzone Averaged between Q1-Q3\\n')\n",
    "print('     |  10 |  20 |  30 |  40 | >=50')\n",
    "print('--------------------------------------')\n",
    "for distance in range(1, 11):\n",
    "    print(f'{distance:>4}', end=' ')\n",
    "    for yard_line in [10, 20, 30, 40, 50]:\n",
    "        plays = [play for play in data if play['down'] == 4 and\n",
    "                 (play['distance'] == distance if play['distance'] < 10\n",
    "                  else play['distance'] >= 10) and\n",
    "                 (play['yards_to_goal'] <= yard_line if yard_line < 50\n",
    "                  else play['yards_to_goal'] >= 50) and\n",
    "                  play['period'] != 4]\n",
    "        print(f'| {len(plays) // 3:>3}', end=' ')\n",
    "    print()"
   ]
  },
  {
   "cell_type": "code",
   "execution_count": 66,
   "metadata": {},
   "outputs": [
    {
     "name": "stdout",
     "output_type": "stream",
     "text": [
      "4th Down Plays by Distance and Yards from Endzone for Q4\n",
      "\n",
      "     |  10 |  20 |  30 |  40 | >=50\n",
      "--------------------------------------\n",
      "   1 |  16 |  39 |  56 |  84 | 124 \n",
      "   2 |   7 |  29 |  46 |  70 | 136 \n",
      "   3 |   4 |  25 |  37 |  67 | 130 \n",
      "   4 |   5 |  28 |  39 |  63 | 127 \n",
      "   5 |   8 |  31 |  39 |  61 | 131 \n",
      "   6 |   5 |  37 |  45 |  70 | 126 \n",
      "   7 |   4 |  26 |  38 |  63 | 135 \n",
      "   8 |   4 |  28 |  36 |  60 | 116 \n",
      "   9 |   4 |  27 |  36 |  60 | 119 \n",
      "  10 |   2 |  22 |  28 |  48 | 109 \n"
     ]
    }
   ],
   "source": [
    "import json\n",
    "\n",
    "# Load the JSON data from the file\n",
    "with open('cfb-play-by-play-2023-wk1.json', 'r') as file:\n",
    "    data = json.load(file)\n",
    "\n",
    "# Display a table\n",
    "print('4th Down Plays by Distance and Yards from Endzone for Q4\\n')\n",
    "print('     |  10 |  20 |  30 |  40 | >=50')\n",
    "print('--------------------------------------')\n",
    "for distance in range(1, 11):\n",
    "    print(f'{distance:>4}', end=' ')\n",
    "    for yard_line in [10, 20, 30, 40, 50]:\n",
    "        plays = [play for play in data if play['down'] == 4 and\n",
    "                 (play['distance'] == distance if play['distance'] < 10\n",
    "                  else play['distance'] >= 10) and\n",
    "                 (play['yards_to_goal'] <= yard_line if yard_line < 50\n",
    "                  else play['yards_to_goal'] >= 50) and\n",
    "                  play['period'] == 4]\n",
    "        print(f'| {len(plays):>3}', end=' ')\n",
    "    print()"
   ]
  }
 ],
 "metadata": {
  "kernelspec": {
   "display_name": "Python 3",
   "language": "python",
   "name": "python3"
  },
  "language_info": {
   "codemirror_mode": {
    "name": "ipython",
    "version": 3
   },
   "file_extension": ".py",
   "mimetype": "text/x-python",
   "name": "python",
   "nbconvert_exporter": "python",
   "pygments_lexer": "ipython3",
   "version": "3.12.5"
  }
 },
 "nbformat": 4,
 "nbformat_minor": 2
}
